{
 "cells": [
  {
   "cell_type": "markdown",
   "metadata": {},
   "source": [
    "Скелет нейронки\n",
    "\n",
    "\n",
    "1) инициализация — задание количества входных, скрытых и выходных узлов;\n",
    "2) тренировка — уточнение весовых коэффициентов в процессе\n",
    "обработки предоставленных для обучения сети тренировочных\n",
    "примеров;\n",
    "3) опрос — получение значений сигналов с выходных узлов после\n",
    "предоставления значений входящих сигналов."
   ]
  },
  {
   "cell_type": "code",
   "execution_count": null,
   "metadata": {},
   "outputs": [],
   "source": [
    "# определение класса нейронной сети\n",
    "class neuralNetwork:\n",
    "# инициализировать нейронную сеть\n",
    "   def __init__(self, inputnodes, hiddennodes, outputnodes, learningrate):\n",
    "# задать количество узлов во входном, скрытом и выходном слое\n",
    "     self.inodes = inputnodes#вход\n",
    "     self.hnodes = hiddennodes#скрытом\n",
    "     self.onodes = outputnodes#выходном\n",
    "# коэффициент обучения\n",
    "     self.lr = learningrate\n",
    "     pass\n",
    "# тренировка нейронной сети\n",
    "   def train():\n",
    "     pass\n",
    "# опрос нейронной сети\n",
    "   def query():\n",
    "     pass\n"
   ]
  },
  {
   "cell_type": "code",
   "execution_count": null,
   "metadata": {},
   "outputs": [],
   "source": [
    "# количество входных, скрытых и выходных узлов\n",
    "input_nodes = 3\n",
    "hidden_nodes = 3\n",
    "output_nodes = 3\n",
    "# коэффициент обучения равен 0,3\n",
    "learning_rate = 0.3\n",
    "# создать экземпляр нейронной сети\n",
    "n = neuralNetwork(input_nodes,hidden_nodes,output_nodes,learning_rate)"
   ]
  },
  {
   "cell_type": "markdown",
   "metadata": {},
   "source": [
    "Весовые коэффициенты — сердце сети"
   ]
  },
  {
   "cell_type": "code",
   "execution_count": 2,
   "metadata": {},
   "outputs": [
    {
     "data": {
      "text/plain": [
       "array([[ 0.40367325, -0.39021633,  0.09366221],\n",
       "       [-0.25245908,  0.2850796 , -0.33672615],\n",
       "       [-0.12775591,  0.48625431, -0.26498132]])"
      ]
     },
     "execution_count": 2,
     "metadata": {},
     "output_type": "execute_result"
    }
   ],
   "source": [
    "import numpy\n",
    "numpy.random.rand(3, 3)-0.5"
   ]
  },
  {
   "cell_type": "code",
   "execution_count": 3,
   "metadata": {},
   "outputs": [
    {
     "ename": "NameError",
     "evalue": "name 'self' is not defined",
     "output_type": "error",
     "traceback": [
      "\u001b[1;31m---------------------------------------------------------------------------\u001b[0m",
      "\u001b[1;31mNameError\u001b[0m                                 Traceback (most recent call last)",
      "Cell \u001b[1;32mIn[3], line 9\u001b[0m\n\u001b[0;32m      1\u001b[0m \u001b[38;5;66;03m# Матрицы весовых коэффициентов связей wih (между входным и скрытым\u001b[39;00m\n\u001b[0;32m      2\u001b[0m \u001b[38;5;66;03m# слоями) и who (между скрытым и выходным слоями).\u001b[39;00m\n\u001b[0;32m      3\u001b[0m \u001b[38;5;66;03m# Весовые коэффициенты связей между узлом i и узлом j следующего слоя\u001b[39;00m\n\u001b[0;32m      4\u001b[0m \u001b[38;5;66;03m# обозначены как w_i_j:\u001b[39;00m\n\u001b[0;32m      5\u001b[0m \u001b[38;5;66;03m# wll w21\u001b[39;00m\n\u001b[0;32m      6\u001b[0m \u001b[38;5;66;03m# wl2 w22 и т.д.\u001b[39;00m\n\u001b[1;32m----> 9\u001b[0m \u001b[38;5;28mself\u001b[39m\u001b[38;5;241m.\u001b[39mwih \u001b[38;5;241m=\u001b[39m (numpy\u001b[38;5;241m.\u001b[39mrandom\u001b[38;5;241m.\u001b[39mrand(\u001b[38;5;28;43mself\u001b[39;49m\u001b[38;5;241m.\u001b[39mhnodes, \u001b[38;5;28mself\u001b[39m\u001b[38;5;241m.\u001b[39minodes) \u001b[38;5;241m-\u001b[39m \u001b[38;5;241m0.5\u001b[39m)\n\u001b[0;32m     10\u001b[0m \u001b[38;5;28mself\u001b[39m\u001b[38;5;241m.\u001b[39mwho \u001b[38;5;241m=\u001b[39m (numpy\u001b[38;5;241m.\u001b[39mrandom\u001b[38;5;241m.\u001b[39mrand(\u001b[38;5;28mself\u001b[39m\u001b[38;5;241m.\u001b[39monodes, \u001b[38;5;28mself\u001b[39m\u001b[38;5;241m.\u001b[39mhnodes) \u001b[38;5;241m-\u001b[39m \u001b[38;5;241m0.5\u001b[39m)\n",
      "\u001b[1;31mNameError\u001b[0m: name 'self' is not defined"
     ]
    }
   ],
   "source": [
    "# Матрицы весовых коэффициентов связей wih (между входным и скрытым\n",
    "# слоями) и who (между скрытым и выходным слоями).\n",
    "# Весовые коэффициенты связей между узлом i и узлом j следующего слоя\n",
    "# обозначены как w_i_j:\n",
    "# wll w21\n",
    "# wl2 w22 и т.д.\n",
    "\n",
    "\n",
    "#self.wih = (numpy.random.rand(self.hnodes, self.inodes) - 0.5)\n",
    "#self.who = (numpy.random.rand(self.onodes, self.hnodes) - 0.5)\n",
    "\n",
    "self.wih = numpy.random.normal(0.0, pow(self.hnodes, -0.5),(self.hnodes, self.inodes))\n",
    "self.who = numpy.random.normal(0.0, pow(self.onodes, -0.5),(self.onodes, self.hnodes))"
   ]
  },
  {
   "cell_type": "code",
   "execution_count": null,
   "metadata": {},
   "outputs": [],
   "source": [
    "hidden_inputs = numpy.dot(self.wih, inputs)\n"
   ]
  },
  {
   "cell_type": "code",
   "execution_count": null,
   "metadata": {},
   "outputs": [],
   "source": [
    "# библиотека scipy.special содержит сигмоиду expit()\n",
    "import scipy.special\n",
    "\n",
    "# использование сигмоиды в качестве функции активации\n",
    "self.activation_function = lambda x: scipy.special.expit(x)\n",
    "\n",
    "\n",
    "# рассчитать исходящие сигналы для скрытого слоя\n",
    "hidden_outputs = self.activation_function(hidden_inputs)\n"
   ]
  },
  {
   "cell_type": "markdown",
   "metadata": {},
   "source": [
    "всё вместе"
   ]
  },
  {
   "cell_type": "code",
   "execution_count": null,
   "metadata": {},
   "outputs": [],
   "source": [
    "# рассчитать входящие сигналы для скрытого слоя\n",
    "hidden_inputs = numpy.dot(self.wih, inputs)\n",
    "# рассчитать исходящие сигналы для скрытого слоя\n",
    "hidden_outputs = self.activation_function(hidden_inputs)\n",
    "# рассчитать входящие сигналы для выходного слоя\n",
    "final_inputs = numpy.dot(self.who, hidden_outputs)\n",
    "# рассчитать исходящие сигналы для выходного слоя\n",
    "final_outputs = self.activation_function(final_inputs)\n"
   ]
  },
  {
   "cell_type": "markdown",
   "metadata": {},
   "source": [
    "Текущее состояние кода стр 168"
   ]
  },
  {
   "cell_type": "code",
   "execution_count": 3,
   "metadata": {},
   "outputs": [],
   "source": [
    "import numpy\n",
    "# библиотека scipy.special с сигмоидой expit ()\n",
    "import scipy.special\n",
    "\n",
    "\n",
    "# определение класса нейронной сети\n",
    "class neuralNetwork:\n",
    "    # инициализировать нейронную сеть\n",
    "    def __init__(self, inputnodes, hiddennodes, outputnodes,learningrate):\n",
    "        # задать количество узлов во входном, скрытом и выходном слое\n",
    "        self.inodes = inputnodes\n",
    "        self.hnodes = hiddennodes\n",
    "        self.onodes = outputnodes\n",
    "        # Матрицы весовых коэффициентов связей wih и who.\n",
    "        # Весовые коэффициенты связей между узлом i и узлом j\n",
    "        # следующего слоя обозначены как w__i__j:\n",
    "        # wll w21\n",
    "        # wl2 w22 и т.д.\n",
    "        self.wih = numpy.random.normal(0.0, pow(self.hnodes, -0.5),(self.hnodes, self.inodes))\n",
    "        self.who = numpy.random.normal(0.0, pow(self.onodes, -0.5),(self.onodes, self.hnodes))\n",
    "        # коэффициент обучения\n",
    "        self.lr = learningrate\n",
    "        # использование сигмоиды в качестве функции активации\n",
    "        self.activation_function = lambda x: scipy.special.expit(x)\n",
    "        pass\n",
    "    # тренировка нейронной сети\n",
    "    def train (self, inputs_list, targets_list) :\n",
    "        # преобразование списка входных значений\n",
    "        # в двухмерный массив\n",
    "        inputs = numpy.array(inputs_list, ndmin=2).T\n",
    "        targets = numpy.array(targets_list, ndmin=2).T\n",
    "        # рассчитать входящие сигналы для скрытого слоя\n",
    "        hidden_inputs = numpy.dot(self.wih, inputs)\n",
    "        # рассчитать исходящие сигналы для скрытого слоя\n",
    "        hidden_outputs = self.activation_function(hidden_inputs)\n",
    "        # рассчитать входящие сигналы для выходного слоя\n",
    "        final_inputs = numpy.dot(self.who, hidden_outputs)\n",
    "        # рассчитать исходящие сигналы для выходного слоя\n",
    "        final_outputs = self.activation_function(final_inputs)\n",
    "\n",
    "        # ошибки выходного слоя =\n",
    "        # (целевое значение - фактическое значение)\n",
    "        output_errors = targets - final_outputs\n",
    "        # ошибки скрытого слоя - это ошибки output_errors,\n",
    "        # распределенные пропорционально весовым коэффициентам связей\n",
    "        # и рекомбинированные на скрытых узлах\n",
    "        hidden_errors = numpy.dot(self.who.T, output_errors)\n",
    "\n",
    "        # обновить весовые коэффициенты для связей между\n",
    "        # скрытым и выходным слоями\n",
    "        self.who += self.lr * numpy .dot ((output_errors *final_outputs * (1.0 - final_outputs)),numpy.transpose (hidden_outputs))\n",
    "        # обновить весовые коэффициенты для связей между\n",
    "        # входным и скрытым слоями\n",
    "        self.wih += self.lr * numpy.dot((hidden_errors *hidden_outputs * (1.0 - hidden_outputs)), numpy.transpose(inputs))\n",
    "\n",
    "\n",
    "\n",
    "\n",
    "\n",
    "\n",
    "        pass\n",
    "    # опрос нейронной сети\n",
    "    def query(self, inputs_list):\n",
    "        # преобразовать список входных значений в двухмерный массив\n",
    "        inputs = numpy.array(inputs_list, ndmin=2).T\n",
    "        # рассчитать входящие сигналы для скрытого слоя\n",
    "        hidden_inputs = numpy.dot(self.wih, inputs)\n",
    "        # рассчитать исходящие сигналы для скрытого слоя\n",
    "        hidden_outputs = self.activation_function(hidden_inputs)\n",
    "        # рассчитать входящие сигналы для выходного слоя\n",
    "        final_inputs = numpy.dot(self.who, hidden_outputs)\n",
    "        # рассчитать исходящие сигналы для выходного слоя\n",
    "        final_outputs = self.activation_function(final_inputs)\n",
    "\n",
    "        return final_outputs\n",
    "\n"
   ]
  },
  {
   "cell_type": "code",
   "execution_count": 4,
   "metadata": {},
   "outputs": [
    {
     "data": {
      "text/plain": [
       "(array([[ 1. ],\n",
       "        [ 0.5],\n",
       "        [-1.5]]),\n",
       " array([[-0.54139306, -0.15587393, -0.20562253],\n",
       "        [-0.13241335, -0.21628478, -0.52547743],\n",
       "        [ 0.81590875, -0.09033497,  0.03655086]]),\n",
       " array([[-0.31089622],\n",
       "        [ 0.5476604 ],\n",
       "        [ 0.71591497]]),\n",
       " <function __main__.neuralNetwork.__init__.<locals>.<lambda>(x)>,\n",
       " array([[0.422896  ],\n",
       "        [0.63359262],\n",
       "        [0.67170683]]),\n",
       " array([[-0.81828669],\n",
       "        [ 0.41938428],\n",
       "        [-0.58094436]]),\n",
       " <function __main__.neuralNetwork.__init__.<locals>.<lambda>(x)>,\n",
       " array([[0.30612747],\n",
       "        [0.60333591],\n",
       "        [0.35871533]]))"
      ]
     },
     "execution_count": 4,
     "metadata": {},
     "output_type": "execute_result"
    }
   ],
   "source": [
    "input_nodes = 3\n",
    "hidden_nodes = 3\n",
    "output_nodes = 3\n",
    "# коэффициент обучения равен 0,3\n",
    "learning_rate = 0.3\n",
    "# создать экземпляр нейронной сети\n",
    "n=neuralNetwork(input_nodes,hidden_nodes,output_nodes,learning_rate)\n",
    "n.query([1.0,0.5,-1.5])"
   ]
  },
  {
   "cell_type": "markdown",
   "metadata": {},
   "source": []
  },
  {
   "cell_type": "code",
   "execution_count": null,
   "metadata": {},
   "outputs": [],
   "source": []
  },
  {
   "cell_type": "markdown",
   "metadata": {},
   "source": []
  }
 ],
 "metadata": {
  "kernelspec": {
   "display_name": "Python 3",
   "language": "python",
   "name": "python3"
  },
  "language_info": {
   "codemirror_mode": {
    "name": "ipython",
    "version": 3
   },
   "file_extension": ".py",
   "mimetype": "text/x-python",
   "name": "python",
   "nbconvert_exporter": "python",
   "pygments_lexer": "ipython3",
   "version": "3.11.5"
  }
 },
 "nbformat": 4,
 "nbformat_minor": 2
}
